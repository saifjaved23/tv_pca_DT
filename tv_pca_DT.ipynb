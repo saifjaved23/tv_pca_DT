{
 "cells": [
  {
   "cell_type": "code",
   "execution_count": 1,
   "id": "7f9952b7",
   "metadata": {},
   "outputs": [],
   "source": [
    "import pandas as pd\n",
    "import numpy as np\n",
    "import sys"
   ]
  },
  {
   "cell_type": "code",
   "execution_count": 2,
   "id": "811de7e1",
   "metadata": {},
   "outputs": [
    {
     "data": {
      "text/html": [
       "<div>\n",
       "<style scoped>\n",
       "    .dataframe tbody tr th:only-of-type {\n",
       "        vertical-align: middle;\n",
       "    }\n",
       "\n",
       "    .dataframe tbody tr th {\n",
       "        vertical-align: top;\n",
       "    }\n",
       "\n",
       "    .dataframe thead th {\n",
       "        text-align: right;\n",
       "    }\n",
       "</style>\n",
       "<table border=\"1\" class=\"dataframe\">\n",
       "  <thead>\n",
       "    <tr style=\"text-align: right;\">\n",
       "      <th></th>\n",
       "      <th>S.NO</th>\n",
       "      <th>RO No</th>\n",
       "      <th>Brand TG</th>\n",
       "      <th>Commercial Title</th>\n",
       "      <th>COMPANY</th>\n",
       "      <th>Brand</th>\n",
       "      <th>MM Brands</th>\n",
       "      <th>Date</th>\n",
       "      <th>Time</th>\n",
       "      <th>Channel</th>\n",
       "      <th>...</th>\n",
       "      <th>Cluster TG Grps</th>\n",
       "      <th>Cluster TG NGrps 30sec</th>\n",
       "      <th>GM Cost w/o Gst</th>\n",
       "      <th>CPRP/RODP</th>\n",
       "      <th>Blocked Channel</th>\n",
       "      <th>Ramzan</th>\n",
       "      <th>CKT Tag</th>\n",
       "      <th>Inflation(WO CKT)</th>\n",
       "      <th>Corrected Caption</th>\n",
       "      <th>Corrected Duration</th>\n",
       "    </tr>\n",
       "  </thead>\n",
       "  <tbody>\n",
       "    <tr>\n",
       "      <th>0</th>\n",
       "      <td>1</td>\n",
       "      <td>0</td>\n",
       "      <td>NaN</td>\n",
       "      <td>Dettol Soap Cool -  Naseem Shah 2024Â - Â Adapt</td>\n",
       "      <td>RECKITT BENCKISER PAKISTAN LTD.</td>\n",
       "      <td>Dettol Soap</td>\n",
       "      <td>Dettol Soap</td>\n",
       "      <td>2024-07-01</td>\n",
       "      <td>00:27:36</td>\n",
       "      <td>24 NEWS</td>\n",
       "      <td>...</td>\n",
       "      <td>0.0</td>\n",
       "      <td>0.0</td>\n",
       "      <td>637.5</td>\n",
       "      <td>COM</td>\n",
       "      <td>NON</td>\n",
       "      <td>NON</td>\n",
       "      <td>Regular</td>\n",
       "      <td>Inflation</td>\n",
       "      <td>Dettol Cool - Garmi Jaoge Bhool With Dettol Co...</td>\n",
       "      <td>15</td>\n",
       "    </tr>\n",
       "    <tr>\n",
       "      <th>1</th>\n",
       "      <td>2</td>\n",
       "      <td>0</td>\n",
       "      <td>NaN</td>\n",
       "      <td>Harpic Toilet (VFM) Mahinay Bhar (MILDIL) - 10...</td>\n",
       "      <td>RECKITT BENCKISER PAKISTAN LTD.</td>\n",
       "      <td>Harpic All</td>\n",
       "      <td>Harpic Power Plus</td>\n",
       "      <td>2024-07-01</td>\n",
       "      <td>00:27:52</td>\n",
       "      <td>24 NEWS</td>\n",
       "      <td>...</td>\n",
       "      <td>0.0</td>\n",
       "      <td>0.0</td>\n",
       "      <td>850.0</td>\n",
       "      <td>COM</td>\n",
       "      <td>NON</td>\n",
       "      <td>NON</td>\n",
       "      <td>Regular</td>\n",
       "      <td>Inflation</td>\n",
       "      <td>New Harpic Chotu - 10xChallenge - Womens</td>\n",
       "      <td>20</td>\n",
       "    </tr>\n",
       "    <tr>\n",
       "      <th>2</th>\n",
       "      <td>5</td>\n",
       "      <td>0</td>\n",
       "      <td>NaN</td>\n",
       "      <td>Dettol Soap Original - Germ Defence (15 Second...</td>\n",
       "      <td>RECKITT BENCKISER PAKISTAN LTD.</td>\n",
       "      <td>Dettol Soap</td>\n",
       "      <td>Dettol Soap</td>\n",
       "      <td>2024-07-01</td>\n",
       "      <td>00:43:19</td>\n",
       "      <td>24 NEWS</td>\n",
       "      <td>...</td>\n",
       "      <td>0.0</td>\n",
       "      <td>0.0</td>\n",
       "      <td>637.5</td>\n",
       "      <td>COM</td>\n",
       "      <td>NON</td>\n",
       "      <td>NON</td>\n",
       "      <td>Regular</td>\n",
       "      <td>Inflation</td>\n",
       "      <td>Yaqeeni Hifazat - Germ Defence - Kids Playing ...</td>\n",
       "      <td>15</td>\n",
       "    </tr>\n",
       "    <tr>\n",
       "      <th>3</th>\n",
       "      <td>6</td>\n",
       "      <td>0</td>\n",
       "      <td>NaN</td>\n",
       "      <td>Harpic Toilet (VFM) Mahinay Bhar (MILDIL) - 10...</td>\n",
       "      <td>RECKITT BENCKISER PAKISTAN LTD.</td>\n",
       "      <td>Harpic All</td>\n",
       "      <td>Harpic Power Plus</td>\n",
       "      <td>2024-07-01</td>\n",
       "      <td>00:43:34</td>\n",
       "      <td>24 NEWS</td>\n",
       "      <td>...</td>\n",
       "      <td>0.0</td>\n",
       "      <td>0.0</td>\n",
       "      <td>850.0</td>\n",
       "      <td>COM</td>\n",
       "      <td>NON</td>\n",
       "      <td>NON</td>\n",
       "      <td>Regular</td>\n",
       "      <td>Inflation</td>\n",
       "      <td>New Harpic Chotu - 10xChallenge - Womens</td>\n",
       "      <td>20</td>\n",
       "    </tr>\n",
       "    <tr>\n",
       "      <th>4</th>\n",
       "      <td>9</td>\n",
       "      <td>0</td>\n",
       "      <td>NaN</td>\n",
       "      <td>Harpic Toilet (VFM) MahinayBhar (Guest) - 10x ...</td>\n",
       "      <td>RECKITT BENCKISER PAKISTAN LTD.</td>\n",
       "      <td>Harpic All</td>\n",
       "      <td>Harpic Power Plus</td>\n",
       "      <td>2024-07-01</td>\n",
       "      <td>00:55:58</td>\n",
       "      <td>24 NEWS</td>\n",
       "      <td>...</td>\n",
       "      <td>0.0</td>\n",
       "      <td>0.0</td>\n",
       "      <td>850.0</td>\n",
       "      <td>COM</td>\n",
       "      <td>NON</td>\n",
       "      <td>NON</td>\n",
       "      <td>Regular</td>\n",
       "      <td>Inflation</td>\n",
       "      <td>10xChallenge - Kills 99.9% Germs &amp; Viruses - W...</td>\n",
       "      <td>20</td>\n",
       "    </tr>\n",
       "    <tr>\n",
       "      <th>...</th>\n",
       "      <td>...</td>\n",
       "      <td>...</td>\n",
       "      <td>...</td>\n",
       "      <td>...</td>\n",
       "      <td>...</td>\n",
       "      <td>...</td>\n",
       "      <td>...</td>\n",
       "      <td>...</td>\n",
       "      <td>...</td>\n",
       "      <td>...</td>\n",
       "      <td>...</td>\n",
       "      <td>...</td>\n",
       "      <td>...</td>\n",
       "      <td>...</td>\n",
       "      <td>...</td>\n",
       "      <td>...</td>\n",
       "      <td>...</td>\n",
       "      <td>...</td>\n",
       "      <td>...</td>\n",
       "      <td>...</td>\n",
       "      <td>...</td>\n",
       "    </tr>\n",
       "    <tr>\n",
       "      <th>853048</th>\n",
       "      <td>B2201</td>\n",
       "      <td>ROE-817861</td>\n",
       "      <td>NaN</td>\n",
       "      <td>Surf TSR 30s</td>\n",
       "      <td>UNILEVER PAKISTAN LTD</td>\n",
       "      <td>Surf Excel</td>\n",
       "      <td>Surf Excel</td>\n",
       "      <td>2024-07-31</td>\n",
       "      <td>00:00:00</td>\n",
       "      <td>HUM TV</td>\n",
       "      <td>...</td>\n",
       "      <td>0.0</td>\n",
       "      <td>0.0</td>\n",
       "      <td>0.0</td>\n",
       "      <td>RODP</td>\n",
       "      <td>NON</td>\n",
       "      <td>NON</td>\n",
       "      <td>Regular</td>\n",
       "      <td>Others</td>\n",
       "      <td>Surf TSR 30s</td>\n",
       "      <td>30</td>\n",
       "    </tr>\n",
       "    <tr>\n",
       "      <th>853049</th>\n",
       "      <td>B2202</td>\n",
       "      <td>ROE-817862</td>\n",
       "      <td>NaN</td>\n",
       "      <td>Anti Mercury 15s</td>\n",
       "      <td>UNILEVER PAKISTAN LTD</td>\n",
       "      <td>Glow &amp; Lovely</td>\n",
       "      <td>Glow &amp; Lovely</td>\n",
       "      <td>2024-07-31</td>\n",
       "      <td>00:00:00</td>\n",
       "      <td>HUM TV</td>\n",
       "      <td>...</td>\n",
       "      <td>0.0</td>\n",
       "      <td>0.0</td>\n",
       "      <td>0.0</td>\n",
       "      <td>RODP</td>\n",
       "      <td>NON</td>\n",
       "      <td>NON</td>\n",
       "      <td>Regular</td>\n",
       "      <td>Others</td>\n",
       "      <td>Anti Mercury 15s</td>\n",
       "      <td>15</td>\n",
       "    </tr>\n",
       "    <tr>\n",
       "      <th>853050</th>\n",
       "      <td>B2203</td>\n",
       "      <td>ROE-817863</td>\n",
       "      <td>NaN</td>\n",
       "      <td>Photographer 30 s</td>\n",
       "      <td>UNILEVER PAKISTAN LTD</td>\n",
       "      <td>Lifebuoy Soap</td>\n",
       "      <td>Lifebuoy Soap</td>\n",
       "      <td>2024-07-31</td>\n",
       "      <td>00:00:00</td>\n",
       "      <td>HUM TV</td>\n",
       "      <td>...</td>\n",
       "      <td>0.0</td>\n",
       "      <td>0.0</td>\n",
       "      <td>0.0</td>\n",
       "      <td>RODP</td>\n",
       "      <td>NON</td>\n",
       "      <td>NON</td>\n",
       "      <td>Regular</td>\n",
       "      <td>Others</td>\n",
       "      <td>Photographer 30 s</td>\n",
       "      <td>30</td>\n",
       "    </tr>\n",
       "    <tr>\n",
       "      <th>853051</th>\n",
       "      <td>B2204</td>\n",
       "      <td>ROE-818016</td>\n",
       "      <td>NaN</td>\n",
       "      <td>Dove Local 30s</td>\n",
       "      <td>UNILEVER PAKISTAN LTD</td>\n",
       "      <td>Dove Shampoo</td>\n",
       "      <td>Dove Shampoo</td>\n",
       "      <td>2024-07-31</td>\n",
       "      <td>00:00:00</td>\n",
       "      <td>HUM TV</td>\n",
       "      <td>...</td>\n",
       "      <td>0.0</td>\n",
       "      <td>0.0</td>\n",
       "      <td>0.0</td>\n",
       "      <td>RODP</td>\n",
       "      <td>NON</td>\n",
       "      <td>NON</td>\n",
       "      <td>Regular</td>\n",
       "      <td>Others</td>\n",
       "      <td>Dove Local 30s</td>\n",
       "      <td>30</td>\n",
       "    </tr>\n",
       "    <tr>\n",
       "      <th>853052</th>\n",
       "      <td>B2205</td>\n",
       "      <td>ROE-818028</td>\n",
       "      <td>NaN</td>\n",
       "      <td>LBS Iconic Mantra 27s</td>\n",
       "      <td>UNILEVER PAKISTAN LTD</td>\n",
       "      <td>Lifebuoy Shampoo</td>\n",
       "      <td>Lifebuoy Shampoo</td>\n",
       "      <td>2024-07-31</td>\n",
       "      <td>00:00:00</td>\n",
       "      <td>HUM TV</td>\n",
       "      <td>...</td>\n",
       "      <td>0.0</td>\n",
       "      <td>0.0</td>\n",
       "      <td>0.0</td>\n",
       "      <td>RODP</td>\n",
       "      <td>NON</td>\n",
       "      <td>NON</td>\n",
       "      <td>Regular</td>\n",
       "      <td>Others</td>\n",
       "      <td>LBS Iconic Mantra 27s</td>\n",
       "      <td>27</td>\n",
       "    </tr>\n",
       "  </tbody>\n",
       "</table>\n",
       "<p>853053 rows × 57 columns</p>\n",
       "</div>"
      ],
      "text/plain": [
       "         S.NO       RO No  Brand TG  \\\n",
       "0           1           0       NaN   \n",
       "1           2           0       NaN   \n",
       "2           5           0       NaN   \n",
       "3           6           0       NaN   \n",
       "4           9           0       NaN   \n",
       "...       ...         ...       ...   \n",
       "853048  B2201  ROE-817861       NaN   \n",
       "853049  B2202  ROE-817862       NaN   \n",
       "853050  B2203  ROE-817863       NaN   \n",
       "853051  B2204  ROE-818016       NaN   \n",
       "853052  B2205  ROE-818028       NaN   \n",
       "\n",
       "                                         Commercial Title  \\\n",
       "0         Dettol Soap Cool -  Naseem Shah 2024Â - Â Adapt   \n",
       "1       Harpic Toilet (VFM) Mahinay Bhar (MILDIL) - 10...   \n",
       "2       Dettol Soap Original - Germ Defence (15 Second...   \n",
       "3       Harpic Toilet (VFM) Mahinay Bhar (MILDIL) - 10...   \n",
       "4       Harpic Toilet (VFM) MahinayBhar (Guest) - 10x ...   \n",
       "...                                                   ...   \n",
       "853048                                       Surf TSR 30s   \n",
       "853049                                   Anti Mercury 15s   \n",
       "853050                                  Photographer 30 s   \n",
       "853051                                     Dove Local 30s   \n",
       "853052                              LBS Iconic Mantra 27s   \n",
       "\n",
       "                                COMPANY             Brand          MM Brands  \\\n",
       "0       RECKITT BENCKISER PAKISTAN LTD.       Dettol Soap        Dettol Soap   \n",
       "1       RECKITT BENCKISER PAKISTAN LTD.        Harpic All  Harpic Power Plus   \n",
       "2       RECKITT BENCKISER PAKISTAN LTD.       Dettol Soap        Dettol Soap   \n",
       "3       RECKITT BENCKISER PAKISTAN LTD.        Harpic All  Harpic Power Plus   \n",
       "4       RECKITT BENCKISER PAKISTAN LTD.        Harpic All  Harpic Power Plus   \n",
       "...                                 ...               ...                ...   \n",
       "853048            UNILEVER PAKISTAN LTD        Surf Excel         Surf Excel   \n",
       "853049            UNILEVER PAKISTAN LTD     Glow & Lovely      Glow & Lovely   \n",
       "853050            UNILEVER PAKISTAN LTD     Lifebuoy Soap      Lifebuoy Soap   \n",
       "853051            UNILEVER PAKISTAN LTD      Dove Shampoo       Dove Shampoo   \n",
       "853052            UNILEVER PAKISTAN LTD  Lifebuoy Shampoo   Lifebuoy Shampoo   \n",
       "\n",
       "             Date      Time  Channel  ... Cluster TG Grps  \\\n",
       "0      2024-07-01  00:27:36  24 NEWS  ...             0.0   \n",
       "1      2024-07-01  00:27:52  24 NEWS  ...             0.0   \n",
       "2      2024-07-01  00:43:19  24 NEWS  ...             0.0   \n",
       "3      2024-07-01  00:43:34  24 NEWS  ...             0.0   \n",
       "4      2024-07-01  00:55:58  24 NEWS  ...             0.0   \n",
       "...           ...       ...      ...  ...             ...   \n",
       "853048 2024-07-31  00:00:00   HUM TV  ...             0.0   \n",
       "853049 2024-07-31  00:00:00   HUM TV  ...             0.0   \n",
       "853050 2024-07-31  00:00:00   HUM TV  ...             0.0   \n",
       "853051 2024-07-31  00:00:00   HUM TV  ...             0.0   \n",
       "853052 2024-07-31  00:00:00   HUM TV  ...             0.0   \n",
       "\n",
       "       Cluster TG NGrps 30sec GM Cost w/o Gst CPRP/RODP  Blocked Channel  \\\n",
       "0                         0.0           637.5       COM              NON   \n",
       "1                         0.0           850.0       COM              NON   \n",
       "2                         0.0           637.5       COM              NON   \n",
       "3                         0.0           850.0       COM              NON   \n",
       "4                         0.0           850.0       COM              NON   \n",
       "...                       ...             ...       ...              ...   \n",
       "853048                    0.0             0.0      RODP              NON   \n",
       "853049                    0.0             0.0      RODP              NON   \n",
       "853050                    0.0             0.0      RODP              NON   \n",
       "853051                    0.0             0.0      RODP              NON   \n",
       "853052                    0.0             0.0      RODP              NON   \n",
       "\n",
       "        Ramzan  CKT Tag  Inflation(WO CKT)  \\\n",
       "0          NON  Regular          Inflation   \n",
       "1          NON  Regular          Inflation   \n",
       "2          NON  Regular          Inflation   \n",
       "3          NON  Regular          Inflation   \n",
       "4          NON  Regular          Inflation   \n",
       "...        ...      ...                ...   \n",
       "853048     NON  Regular             Others   \n",
       "853049     NON  Regular             Others   \n",
       "853050     NON  Regular             Others   \n",
       "853051     NON  Regular             Others   \n",
       "853052     NON  Regular             Others   \n",
       "\n",
       "                                        Corrected Caption Corrected Duration  \n",
       "0       Dettol Cool - Garmi Jaoge Bhool With Dettol Co...                 15  \n",
       "1                New Harpic Chotu - 10xChallenge - Womens                 20  \n",
       "2       Yaqeeni Hifazat - Germ Defence - Kids Playing ...                 15  \n",
       "3                New Harpic Chotu - 10xChallenge - Womens                 20  \n",
       "4       10xChallenge - Kills 99.9% Germs & Viruses - W...                 20  \n",
       "...                                                   ...                ...  \n",
       "853048                                       Surf TSR 30s                 30  \n",
       "853049                                   Anti Mercury 15s                 15  \n",
       "853050                                  Photographer 30 s                 30  \n",
       "853051                                     Dove Local 30s                 30  \n",
       "853052                              LBS Iconic Mantra 27s                 27  \n",
       "\n",
       "[853053 rows x 57 columns]"
      ]
     },
     "execution_count": 2,
     "metadata": {},
     "output_type": "execute_result"
    }
   ],
   "source": [
    "ss = pd.read_excel(f'{filepath}')\n",
    "ss"
   ]
  },
  {
   "cell_type": "code",
   "execution_count": 3,
   "id": "7009a1da",
   "metadata": {},
   "outputs": [
    {
     "data": {
      "text/plain": [
       "Index(['S.NO', 'RO No', 'Brand TG', 'Commercial Title', 'COMPANY', 'Brand',\n",
       "       'MM Brands', 'Date', 'Time', 'Channel', 'Kantar Channel',\n",
       "       'Channel Tier', 'Program', 'PLACE', 'Commercial Duration', 'Mins',\n",
       "       'Cat / non cat', 'Asd', 'Day', 'Slot Remark', 'Position', 'PIB',\n",
       "       'Month', 'Medium', 'Sub Category', 'Esp/levers', 'Genre', 'Time Bands',\n",
       "       'ACD Cat/Non Cat', 'Hour', 'PT', 'EPT', 'Week', 'Captions for ATP',\n",
       "       'Duration For ATP', 'ATP Brand', 'COST W GST', 'Net Index Cost',\n",
       "       'COST w/o GST', 'GST %', 'PB GRPS', 'GRP SEC PB',\n",
       "       'Index Grps PBs 30 Sec', 'Max Uni', 'max grps sec',\n",
       "       'Max Ind grp 30 Sec', 'MAX uni inf (NGRPS 10)', 'Cluster TG Grps',\n",
       "       'Cluster TG NGrps 30sec', 'GM Cost w/o Gst', 'CPRP/RODP',\n",
       "       'Blocked Channel', 'Ramzan', 'CKT Tag', 'Inflation(WO CKT)',\n",
       "       'Corrected Caption', 'Corrected Duration'],\n",
       "      dtype='object')"
      ]
     },
     "execution_count": 3,
     "metadata": {},
     "output_type": "execute_result"
    }
   ],
   "source": [
    "ss.columns"
   ]
  },
  {
   "cell_type": "code",
   "execution_count": 4,
   "id": "52aea42c",
   "metadata": {},
   "outputs": [],
   "source": [
    "new_ss = ss[['S.NO', 'RO No','Commercial Title', 'COMPANY', 'Brand', 'Date', 'Time', 'Kantar Channel', 'Program', 'PLACE', 'Commercial Duration', 'Cat / non cat', 'Slot Remark', 'Position', 'Sub Category', 'Genre', 'COST w/o GST', 'PB GRPS', 'Max Uni', 'Cluster TG Grps', 'CPRP/RODP', 'GST %', 'GM Cost w/o Gst']]"
   ]
  },
  {
   "cell_type": "code",
   "execution_count": 5,
   "id": "0784f700",
   "metadata": {},
   "outputs": [
    {
     "data": {
      "text/html": [
       "<div>\n",
       "<style scoped>\n",
       "    .dataframe tbody tr th:only-of-type {\n",
       "        vertical-align: middle;\n",
       "    }\n",
       "\n",
       "    .dataframe tbody tr th {\n",
       "        vertical-align: top;\n",
       "    }\n",
       "\n",
       "    .dataframe thead th {\n",
       "        text-align: right;\n",
       "    }\n",
       "</style>\n",
       "<table border=\"1\" class=\"dataframe\">\n",
       "  <thead>\n",
       "    <tr style=\"text-align: right;\">\n",
       "      <th></th>\n",
       "      <th>S.NO</th>\n",
       "      <th>RO No</th>\n",
       "      <th>Commercial Title</th>\n",
       "      <th>COMPANY</th>\n",
       "      <th>Brand</th>\n",
       "      <th>Date</th>\n",
       "      <th>Time</th>\n",
       "      <th>Kantar Channel</th>\n",
       "      <th>Program</th>\n",
       "      <th>PLACE</th>\n",
       "      <th>...</th>\n",
       "      <th>Position</th>\n",
       "      <th>Sub Category</th>\n",
       "      <th>Genre</th>\n",
       "      <th>COST w/o GST</th>\n",
       "      <th>PB GRPS</th>\n",
       "      <th>Max Uni</th>\n",
       "      <th>Cluster TG Grps</th>\n",
       "      <th>CPRP/RODP</th>\n",
       "      <th>GST %</th>\n",
       "      <th>GM Cost w/o Gst</th>\n",
       "    </tr>\n",
       "  </thead>\n",
       "  <tbody>\n",
       "    <tr>\n",
       "      <th>0</th>\n",
       "      <td>1</td>\n",
       "      <td>0</td>\n",
       "      <td>Dettol Soap Cool -  Naseem Shah 2024Â - Â Adapt</td>\n",
       "      <td>RECKITT BENCKISER PAKISTAN LTD.</td>\n",
       "      <td>Dettol Soap</td>\n",
       "      <td>2024-07-01</td>\n",
       "      <td>00:27:36</td>\n",
       "      <td>24 NEWS</td>\n",
       "      <td>24 News</td>\n",
       "      <td>Spot/TVC</td>\n",
       "      <td>...</td>\n",
       "      <td>1st</td>\n",
       "      <td>Personal Wash</td>\n",
       "      <td>News</td>\n",
       "      <td>262.295082</td>\n",
       "      <td>0.0</td>\n",
       "      <td>0.0</td>\n",
       "      <td>0.0</td>\n",
       "      <td>COM</td>\n",
       "      <td>0.16</td>\n",
       "      <td>637.5</td>\n",
       "    </tr>\n",
       "    <tr>\n",
       "      <th>1</th>\n",
       "      <td>2</td>\n",
       "      <td>0</td>\n",
       "      <td>Harpic Toilet (VFM) Mahinay Bhar (MILDIL) - 10...</td>\n",
       "      <td>RECKITT BENCKISER PAKISTAN LTD.</td>\n",
       "      <td>Harpic All</td>\n",
       "      <td>2024-07-01</td>\n",
       "      <td>00:27:52</td>\n",
       "      <td>24 NEWS</td>\n",
       "      <td>24 News</td>\n",
       "      <td>Spot/TVC</td>\n",
       "      <td>...</td>\n",
       "      <td>2nd</td>\n",
       "      <td>Toilet Cleaner</td>\n",
       "      <td>News</td>\n",
       "      <td>349.726776</td>\n",
       "      <td>0.0</td>\n",
       "      <td>0.0</td>\n",
       "      <td>0.0</td>\n",
       "      <td>COM</td>\n",
       "      <td>0.16</td>\n",
       "      <td>850.0</td>\n",
       "    </tr>\n",
       "    <tr>\n",
       "      <th>2</th>\n",
       "      <td>5</td>\n",
       "      <td>0</td>\n",
       "      <td>Dettol Soap Original - Germ Defence (15 Second...</td>\n",
       "      <td>RECKITT BENCKISER PAKISTAN LTD.</td>\n",
       "      <td>Dettol Soap</td>\n",
       "      <td>2024-07-01</td>\n",
       "      <td>00:43:19</td>\n",
       "      <td>24 NEWS</td>\n",
       "      <td>24 News</td>\n",
       "      <td>Spot/TVC</td>\n",
       "      <td>...</td>\n",
       "      <td>2nd</td>\n",
       "      <td>Personal Wash</td>\n",
       "      <td>News</td>\n",
       "      <td>262.295082</td>\n",
       "      <td>0.0</td>\n",
       "      <td>0.0</td>\n",
       "      <td>0.0</td>\n",
       "      <td>COM</td>\n",
       "      <td>0.16</td>\n",
       "      <td>637.5</td>\n",
       "    </tr>\n",
       "    <tr>\n",
       "      <th>3</th>\n",
       "      <td>6</td>\n",
       "      <td>0</td>\n",
       "      <td>Harpic Toilet (VFM) Mahinay Bhar (MILDIL) - 10...</td>\n",
       "      <td>RECKITT BENCKISER PAKISTAN LTD.</td>\n",
       "      <td>Harpic All</td>\n",
       "      <td>2024-07-01</td>\n",
       "      <td>00:43:34</td>\n",
       "      <td>24 NEWS</td>\n",
       "      <td>24 News</td>\n",
       "      <td>Spot/TVC</td>\n",
       "      <td>...</td>\n",
       "      <td>Last</td>\n",
       "      <td>Toilet Cleaner</td>\n",
       "      <td>News</td>\n",
       "      <td>349.726776</td>\n",
       "      <td>0.0</td>\n",
       "      <td>0.0</td>\n",
       "      <td>0.0</td>\n",
       "      <td>COM</td>\n",
       "      <td>0.16</td>\n",
       "      <td>850.0</td>\n",
       "    </tr>\n",
       "    <tr>\n",
       "      <th>4</th>\n",
       "      <td>9</td>\n",
       "      <td>0</td>\n",
       "      <td>Harpic Toilet (VFM) MahinayBhar (Guest) - 10x ...</td>\n",
       "      <td>RECKITT BENCKISER PAKISTAN LTD.</td>\n",
       "      <td>Harpic All</td>\n",
       "      <td>2024-07-01</td>\n",
       "      <td>00:55:58</td>\n",
       "      <td>24 NEWS</td>\n",
       "      <td>24 News</td>\n",
       "      <td>Spot/TVC</td>\n",
       "      <td>...</td>\n",
       "      <td>1st</td>\n",
       "      <td>Toilet Cleaner</td>\n",
       "      <td>News</td>\n",
       "      <td>349.726776</td>\n",
       "      <td>0.0</td>\n",
       "      <td>0.0</td>\n",
       "      <td>0.0</td>\n",
       "      <td>COM</td>\n",
       "      <td>0.16</td>\n",
       "      <td>850.0</td>\n",
       "    </tr>\n",
       "    <tr>\n",
       "      <th>...</th>\n",
       "      <td>...</td>\n",
       "      <td>...</td>\n",
       "      <td>...</td>\n",
       "      <td>...</td>\n",
       "      <td>...</td>\n",
       "      <td>...</td>\n",
       "      <td>...</td>\n",
       "      <td>...</td>\n",
       "      <td>...</td>\n",
       "      <td>...</td>\n",
       "      <td>...</td>\n",
       "      <td>...</td>\n",
       "      <td>...</td>\n",
       "      <td>...</td>\n",
       "      <td>...</td>\n",
       "      <td>...</td>\n",
       "      <td>...</td>\n",
       "      <td>...</td>\n",
       "      <td>...</td>\n",
       "      <td>...</td>\n",
       "      <td>...</td>\n",
       "    </tr>\n",
       "    <tr>\n",
       "      <th>853048</th>\n",
       "      <td>B2201</td>\n",
       "      <td>ROE-817861</td>\n",
       "      <td>Surf TSR 30s</td>\n",
       "      <td>UNILEVER PAKISTAN LTD</td>\n",
       "      <td>Surf Excel</td>\n",
       "      <td>2024-07-31</td>\n",
       "      <td>00:00:00</td>\n",
       "      <td>HUM TV</td>\n",
       "      <td>Branding LFS - 00:00 - 23:59 -</td>\n",
       "      <td>Branding</td>\n",
       "      <td>...</td>\n",
       "      <td>Middle</td>\n",
       "      <td>Detergents</td>\n",
       "      <td>Entertainment</td>\n",
       "      <td>500000.000000</td>\n",
       "      <td>0.0</td>\n",
       "      <td>0.0</td>\n",
       "      <td>0.0</td>\n",
       "      <td>RODP</td>\n",
       "      <td>0.15</td>\n",
       "      <td>0.0</td>\n",
       "    </tr>\n",
       "    <tr>\n",
       "      <th>853049</th>\n",
       "      <td>B2202</td>\n",
       "      <td>ROE-817862</td>\n",
       "      <td>Anti Mercury 15s</td>\n",
       "      <td>UNILEVER PAKISTAN LTD</td>\n",
       "      <td>Glow &amp; Lovely</td>\n",
       "      <td>2024-07-31</td>\n",
       "      <td>00:00:00</td>\n",
       "      <td>HUM TV</td>\n",
       "      <td>Branding LFS - 00:00 - 23:59 -</td>\n",
       "      <td>Branding</td>\n",
       "      <td>...</td>\n",
       "      <td>Middle</td>\n",
       "      <td>Face Care</td>\n",
       "      <td>Entertainment</td>\n",
       "      <td>400000.000000</td>\n",
       "      <td>0.0</td>\n",
       "      <td>0.0</td>\n",
       "      <td>0.0</td>\n",
       "      <td>RODP</td>\n",
       "      <td>0.15</td>\n",
       "      <td>0.0</td>\n",
       "    </tr>\n",
       "    <tr>\n",
       "      <th>853050</th>\n",
       "      <td>B2203</td>\n",
       "      <td>ROE-817863</td>\n",
       "      <td>Photographer 30 s</td>\n",
       "      <td>UNILEVER PAKISTAN LTD</td>\n",
       "      <td>Lifebuoy Soap</td>\n",
       "      <td>2024-07-31</td>\n",
       "      <td>00:00:00</td>\n",
       "      <td>HUM TV</td>\n",
       "      <td>Branding LFS - 00:00 - 23:59 -</td>\n",
       "      <td>Branding</td>\n",
       "      <td>...</td>\n",
       "      <td>Middle</td>\n",
       "      <td>Personal Wash</td>\n",
       "      <td>Entertainment</td>\n",
       "      <td>400000.000000</td>\n",
       "      <td>0.0</td>\n",
       "      <td>0.0</td>\n",
       "      <td>0.0</td>\n",
       "      <td>RODP</td>\n",
       "      <td>0.15</td>\n",
       "      <td>0.0</td>\n",
       "    </tr>\n",
       "    <tr>\n",
       "      <th>853051</th>\n",
       "      <td>B2204</td>\n",
       "      <td>ROE-818016</td>\n",
       "      <td>Dove Local 30s</td>\n",
       "      <td>UNILEVER PAKISTAN LTD</td>\n",
       "      <td>Dove Shampoo</td>\n",
       "      <td>2024-07-31</td>\n",
       "      <td>00:00:00</td>\n",
       "      <td>HUM TV</td>\n",
       "      <td>Branding LFS - 00:00 - 23:59 -</td>\n",
       "      <td>Branding</td>\n",
       "      <td>...</td>\n",
       "      <td>Middle</td>\n",
       "      <td>Hair Care</td>\n",
       "      <td>Entertainment</td>\n",
       "      <td>1000000.000000</td>\n",
       "      <td>0.0</td>\n",
       "      <td>0.0</td>\n",
       "      <td>0.0</td>\n",
       "      <td>RODP</td>\n",
       "      <td>0.15</td>\n",
       "      <td>0.0</td>\n",
       "    </tr>\n",
       "    <tr>\n",
       "      <th>853052</th>\n",
       "      <td>B2205</td>\n",
       "      <td>ROE-818028</td>\n",
       "      <td>LBS Iconic Mantra 27s</td>\n",
       "      <td>UNILEVER PAKISTAN LTD</td>\n",
       "      <td>Lifebuoy Shampoo</td>\n",
       "      <td>2024-07-31</td>\n",
       "      <td>00:00:00</td>\n",
       "      <td>HUM TV</td>\n",
       "      <td>Branding LFS - 00:00 - 23:59 -</td>\n",
       "      <td>Branding</td>\n",
       "      <td>...</td>\n",
       "      <td>Middle</td>\n",
       "      <td>Hair Care</td>\n",
       "      <td>Entertainment</td>\n",
       "      <td>1000000.000000</td>\n",
       "      <td>0.0</td>\n",
       "      <td>0.0</td>\n",
       "      <td>0.0</td>\n",
       "      <td>RODP</td>\n",
       "      <td>0.15</td>\n",
       "      <td>0.0</td>\n",
       "    </tr>\n",
       "  </tbody>\n",
       "</table>\n",
       "<p>853053 rows × 23 columns</p>\n",
       "</div>"
      ],
      "text/plain": [
       "         S.NO       RO No                                   Commercial Title  \\\n",
       "0           1           0    Dettol Soap Cool -  Naseem Shah 2024Â - Â Adapt   \n",
       "1           2           0  Harpic Toilet (VFM) Mahinay Bhar (MILDIL) - 10...   \n",
       "2           5           0  Dettol Soap Original - Germ Defence (15 Second...   \n",
       "3           6           0  Harpic Toilet (VFM) Mahinay Bhar (MILDIL) - 10...   \n",
       "4           9           0  Harpic Toilet (VFM) MahinayBhar (Guest) - 10x ...   \n",
       "...       ...         ...                                                ...   \n",
       "853048  B2201  ROE-817861                                       Surf TSR 30s   \n",
       "853049  B2202  ROE-817862                                   Anti Mercury 15s   \n",
       "853050  B2203  ROE-817863                                  Photographer 30 s   \n",
       "853051  B2204  ROE-818016                                     Dove Local 30s   \n",
       "853052  B2205  ROE-818028                              LBS Iconic Mantra 27s   \n",
       "\n",
       "                                COMPANY             Brand       Date  \\\n",
       "0       RECKITT BENCKISER PAKISTAN LTD.       Dettol Soap 2024-07-01   \n",
       "1       RECKITT BENCKISER PAKISTAN LTD.        Harpic All 2024-07-01   \n",
       "2       RECKITT BENCKISER PAKISTAN LTD.       Dettol Soap 2024-07-01   \n",
       "3       RECKITT BENCKISER PAKISTAN LTD.        Harpic All 2024-07-01   \n",
       "4       RECKITT BENCKISER PAKISTAN LTD.        Harpic All 2024-07-01   \n",
       "...                                 ...               ...        ...   \n",
       "853048            UNILEVER PAKISTAN LTD        Surf Excel 2024-07-31   \n",
       "853049            UNILEVER PAKISTAN LTD     Glow & Lovely 2024-07-31   \n",
       "853050            UNILEVER PAKISTAN LTD     Lifebuoy Soap 2024-07-31   \n",
       "853051            UNILEVER PAKISTAN LTD      Dove Shampoo 2024-07-31   \n",
       "853052            UNILEVER PAKISTAN LTD  Lifebuoy Shampoo 2024-07-31   \n",
       "\n",
       "            Time Kantar Channel                          Program     PLACE  \\\n",
       "0       00:27:36        24 NEWS                          24 News  Spot/TVC   \n",
       "1       00:27:52        24 NEWS                          24 News  Spot/TVC   \n",
       "2       00:43:19        24 NEWS                          24 News  Spot/TVC   \n",
       "3       00:43:34        24 NEWS                          24 News  Spot/TVC   \n",
       "4       00:55:58        24 NEWS                          24 News  Spot/TVC   \n",
       "...          ...            ...                              ...       ...   \n",
       "853048  00:00:00         HUM TV  Branding LFS - 00:00 - 23:59 -   Branding   \n",
       "853049  00:00:00         HUM TV  Branding LFS - 00:00 - 23:59 -   Branding   \n",
       "853050  00:00:00         HUM TV  Branding LFS - 00:00 - 23:59 -   Branding   \n",
       "853051  00:00:00         HUM TV  Branding LFS - 00:00 - 23:59 -   Branding   \n",
       "853052  00:00:00         HUM TV  Branding LFS - 00:00 - 23:59 -   Branding   \n",
       "\n",
       "        ...  Position    Sub Category          Genre    COST w/o GST PB GRPS  \\\n",
       "0       ...       1st   Personal Wash           News      262.295082     0.0   \n",
       "1       ...       2nd  Toilet Cleaner           News      349.726776     0.0   \n",
       "2       ...       2nd   Personal Wash           News      262.295082     0.0   \n",
       "3       ...      Last  Toilet Cleaner           News      349.726776     0.0   \n",
       "4       ...       1st  Toilet Cleaner           News      349.726776     0.0   \n",
       "...     ...       ...             ...            ...             ...     ...   \n",
       "853048  ...    Middle      Detergents  Entertainment   500000.000000     0.0   \n",
       "853049  ...    Middle       Face Care  Entertainment   400000.000000     0.0   \n",
       "853050  ...    Middle   Personal Wash  Entertainment   400000.000000     0.0   \n",
       "853051  ...    Middle       Hair Care  Entertainment  1000000.000000     0.0   \n",
       "853052  ...    Middle       Hair Care  Entertainment  1000000.000000     0.0   \n",
       "\n",
       "       Max Uni  Cluster TG Grps  CPRP/RODP  GST %  GM Cost w/o Gst  \n",
       "0          0.0              0.0        COM   0.16            637.5  \n",
       "1          0.0              0.0        COM   0.16            850.0  \n",
       "2          0.0              0.0        COM   0.16            637.5  \n",
       "3          0.0              0.0        COM   0.16            850.0  \n",
       "4          0.0              0.0        COM   0.16            850.0  \n",
       "...        ...              ...        ...    ...              ...  \n",
       "853048     0.0              0.0       RODP   0.15              0.0  \n",
       "853049     0.0              0.0       RODP   0.15              0.0  \n",
       "853050     0.0              0.0       RODP   0.15              0.0  \n",
       "853051     0.0              0.0       RODP   0.15              0.0  \n",
       "853052     0.0              0.0       RODP   0.15              0.0  \n",
       "\n",
       "[853053 rows x 23 columns]"
      ]
     },
     "execution_count": 5,
     "metadata": {},
     "output_type": "execute_result"
    }
   ],
   "source": [
    "new_ss"
   ]
  },
  {
   "cell_type": "code",
   "execution_count": 6,
   "id": "e44ded26",
   "metadata": {},
   "outputs": [],
   "source": [
    "renamed_column_ss = new_ss.rename(columns = {'S.NO':'serial_number',\n",
    " 'RO No': 'ro_no',\n",
    " 'Commercial Title': 'commercial_title',\n",
    " 'COMPANY': 'company',\n",
    " 'Brand': 'brand',\n",
    " 'Date': 'date',\n",
    " 'Time': 'time',\n",
    " 'Kantar Channel': 'channel',\n",
    " 'Program': 'program',\n",
    " 'PLACE':'place',\n",
    " 'Commercial Duration': 'duration',\n",
    " 'Cat / non cat': 'cat_noncat',\n",
    " 'Slot Remark': 'slot_remark',\n",
    " 'Position': 'position',\n",
    " 'Sub Category': 'subcategory',\n",
    " 'Genre': 'genre',\n",
    " 'COST w/o GST': 'cost_wo_gst',\n",
    " 'PB GRPS': 'pb_grps',\n",
    " 'Max Uni': 'max_uni',\n",
    " 'Cluster TG Grps': 'cluster_grps',\n",
    " 'CPRP/RODP': 'cprp_rodp',\n",
    " 'GST %': 'gst',\n",
    " 'GM Cost w/o Gst': 'gm_cost'})"
   ]
  },
  {
   "cell_type": "code",
   "execution_count": 7,
   "id": "dcf5a68e",
   "metadata": {},
   "outputs": [
    {
     "data": {
      "text/plain": [
       "Index(['serial_number', 'ro_no', 'commercial_title', 'company', 'brand',\n",
       "       'date', 'time', 'channel', 'program', 'place', 'duration', 'cat_noncat',\n",
       "       'slot_remark', 'position', 'subcategory', 'genre', 'cost_wo_gst',\n",
       "       'pb_grps', 'max_uni', 'cluster_grps', 'cprp_rodp', 'gst', 'gm_cost'],\n",
       "      dtype='object')"
      ]
     },
     "execution_count": 7,
     "metadata": {},
     "output_type": "execute_result"
    }
   ],
   "source": [
    "renamed_column_ss.columns"
   ]
  },
  {
   "cell_type": "code",
   "execution_count": 8,
   "id": "a91e7f8d",
   "metadata": {},
   "outputs": [
    {
     "name": "stdout",
     "output_type": "stream",
     "text": [
      "<class 'pandas.core.frame.DataFrame'>\n",
      "RangeIndex: 853053 entries, 0 to 853052\n",
      "Data columns (total 23 columns):\n",
      " #   Column            Non-Null Count   Dtype         \n",
      "---  ------            --------------   -----         \n",
      " 0   serial_number     853053 non-null  object        \n",
      " 1   ro_no             853053 non-null  object        \n",
      " 2   commercial_title  853053 non-null  object        \n",
      " 3   company           853053 non-null  object        \n",
      " 4   brand             853053 non-null  object        \n",
      " 5   date              853053 non-null  datetime64[ns]\n",
      " 6   time              853053 non-null  object        \n",
      " 7   channel           853053 non-null  object        \n",
      " 8   program           853053 non-null  object        \n",
      " 9   place             853053 non-null  object        \n",
      " 10  duration          853053 non-null  int64         \n",
      " 11  cat_noncat        853053 non-null  object        \n",
      " 12  slot_remark       853053 non-null  object        \n",
      " 13  position          853053 non-null  object        \n",
      " 14  subcategory       853053 non-null  object        \n",
      " 15  genre             853053 non-null  object        \n",
      " 16  cost_wo_gst       853053 non-null  float64       \n",
      " 17  pb_grps           853053 non-null  float64       \n",
      " 18  max_uni           853053 non-null  float64       \n",
      " 19  cluster_grps      853053 non-null  float64       \n",
      " 20  cprp_rodp         853053 non-null  object        \n",
      " 21  gst               853053 non-null  float64       \n",
      " 22  gm_cost           853053 non-null  float64       \n",
      "dtypes: datetime64[ns](1), float64(6), int64(1), object(15)\n",
      "memory usage: 149.7+ MB\n"
     ]
    }
   ],
   "source": [
    "renamed_column_ss.info()"
   ]
  },
  {
   "cell_type": "code",
   "execution_count": 9,
   "id": "ca753991",
   "metadata": {},
   "outputs": [
    {
     "data": {
      "text/plain": [
       "0         1/2\n",
       "1         2/2\n",
       "2         2/3\n",
       "3         3/3\n",
       "4         1/2\n",
       "         ... \n",
       "853048    0/0\n",
       "853049    0/0\n",
       "853050    0/0\n",
       "853051    0/0\n",
       "853052    0/0\n",
       "Name: slot_remark, Length: 853053, dtype: object"
      ]
     },
     "execution_count": 9,
     "metadata": {},
     "output_type": "execute_result"
    }
   ],
   "source": [
    "renamed_column_ss[\"slot_remark\"]"
   ]
  },
  {
   "cell_type": "code",
   "execution_count": 10,
   "id": "a299a1e7",
   "metadata": {},
   "outputs": [],
   "source": [
    "renamed_column_ss[\"slot_remark\"] = \"'\" +  renamed_column_ss[\"slot_remark\"] "
   ]
  },
  {
   "cell_type": "code",
   "execution_count": 11,
   "id": "b2f00f1c",
   "metadata": {},
   "outputs": [
    {
     "data": {
      "text/plain": [
       "0         '1/2\n",
       "1         '2/2\n",
       "2         '2/3\n",
       "3         '3/3\n",
       "4         '1/2\n",
       "          ... \n",
       "853048    '0/0\n",
       "853049    '0/0\n",
       "853050    '0/0\n",
       "853051    '0/0\n",
       "853052    '0/0\n",
       "Name: slot_remark, Length: 853053, dtype: object"
      ]
     },
     "execution_count": 11,
     "metadata": {},
     "output_type": "execute_result"
    }
   ],
   "source": [
    "renamed_column_ss[\"slot_remark\"]\n"
   ]
  },
  {
   "cell_type": "markdown",
   "id": "75ce8690",
   "metadata": {},
   "source": [
    "## CAT/NONCAT Column Check"
   ]
  },
  {
   "cell_type": "code",
   "execution_count": 12,
   "id": "aa670508",
   "metadata": {},
   "outputs": [],
   "source": [
    "renamed_column_ss[\"cat_noncat\"] = renamed_column_ss[\"cat_noncat\"].str.strip()"
   ]
  },
  {
   "cell_type": "code",
   "execution_count": 13,
   "id": "f725eefe",
   "metadata": {},
   "outputs": [
    {
     "data": {
      "text/plain": [
       "array(['CAT', 'NON CAT'], dtype=object)"
      ]
     },
     "execution_count": 13,
     "metadata": {},
     "output_type": "execute_result"
    }
   ],
   "source": [
    "renamed_column_ss[\"cat_noncat\"].unique()"
   ]
  },
  {
   "cell_type": "code",
   "execution_count": 14,
   "id": "6a23c6ea-45b7-4820-9175-9214c38cedbc",
   "metadata": {},
   "outputs": [],
   "source": [
    "allowed_values = ['CAT','NON CAT']\n",
    "invalid_values = renamed_column_ss['cat_noncat'][~renamed_column_ss['cat_noncat'].isin(allowed_values)]\n"
   ]
  },
  {
   "cell_type": "code",
   "execution_count": 15,
   "id": "6586ede6",
   "metadata": {},
   "outputs": [
    {
     "name": "stdout",
     "output_type": "stream",
     "text": [
      "OK\n"
     ]
    }
   ],
   "source": [
    "if not invalid_values.empty:\n",
    "    sys.exit(f\"Invalid values found in 'cat_noncat' column: {','.join(invalid_values.unique())}\")\n",
    "elif len(renamed_column_ss[\"cat_noncat\"].unique()) > 2:\n",
    "    sys.exit(\"cat_noncat column has more than 2 unique values\")\n",
    "else:\n",
    "    print(\"OK\")"
   ]
  },
  {
   "cell_type": "markdown",
   "id": "641726ca",
   "metadata": {},
   "source": [
    "## Subcategory column"
   ]
  },
  {
   "cell_type": "code",
   "execution_count": 16,
   "id": "97249b3e",
   "metadata": {},
   "outputs": [],
   "source": [
    "renamed_column_ss[\"subcategory\"] = renamed_column_ss[\"subcategory\"].str.strip()\n"
   ]
  },
  {
   "cell_type": "code",
   "execution_count": 17,
   "id": "db262f32",
   "metadata": {},
   "outputs": [
    {
     "name": "stdout",
     "output_type": "stream",
     "text": [
      "['Personal Wash' 'Toilet Cleaner' 'Detergents' 'Boullion C.A' 'Noodles'\n",
      " 'Face Care' 'Hair Care' 'H.C Group' 'Ice Cream' 'Face Cleansing'\n",
      " 'Hand & Body' 'Desserts']\n"
     ]
    }
   ],
   "source": [
    "subcategories = renamed_column_ss[\"subcategory\"].unique()\n",
    "print(subcategories)"
   ]
  },
  {
   "cell_type": "code",
   "execution_count": 19,
   "id": "98339427-99a7-4c62-a8d4-477e4f46665f",
   "metadata": {},
   "outputs": [],
   "source": [
    "allowed_subcategories = ['Ice Cream','Hair Care','Personal Wash','Detergents','Face Care','Noodles','Mayonnaise','Face Cleansing','Boullion C.A','Hand & Body','Toilet Cleaner','Sauces','Desserts','H.C Group','Corporate']\n",
    "invalid_subcategories = renamed_column_ss['subcategory'][~renamed_column_ss['subcategory'].isin(allowed_subcategories)]\n"
   ]
  },
  {
   "cell_type": "code",
   "execution_count": 20,
   "id": "dc67a8d5-3a11-4fc2-81b8-9944032b304a",
   "metadata": {},
   "outputs": [
    {
     "name": "stdout",
     "output_type": "stream",
     "text": [
      "OK\n"
     ]
    }
   ],
   "source": [
    "if not invalid_subcategories.empty:\n",
    "    sys.exit(f\"Invalid values found in 'subcategory' column: {','.join(invalid_subcategories.unique())}\")\n",
    "else:\n",
    "    print(\"OK\")"
   ]
  },
  {
   "cell_type": "markdown",
   "id": "37ed0155-335e-40a6-a17c-8484af6e9900",
   "metadata": {},
   "source": [
    "## Genre Check"
   ]
  },
  {
   "cell_type": "code",
   "execution_count": 21,
   "id": "464db757-eb5b-4a6e-a4ad-25e1c7fb0c3b",
   "metadata": {},
   "outputs": [],
   "source": [
    "renamed_column_ss[\"genre\"] = renamed_column_ss[\"genre\"].str.strip()"
   ]
  },
  {
   "cell_type": "code",
   "execution_count": 22,
   "id": "e4cd42bd-3871-40d3-bb4b-f14b32a2d28b",
   "metadata": {},
   "outputs": [
    {
     "data": {
      "text/plain": [
       "array(['News', 'Music', 'Entertainment', 'Sports', 'Regional', 'Kids',\n",
       "       'Infotainment', 'Movie', 'Cooking'], dtype=object)"
      ]
     },
     "execution_count": 22,
     "metadata": {},
     "output_type": "execute_result"
    }
   ],
   "source": [
    "renamed_column_ss[\"genre\"].unique()"
   ]
  },
  {
   "cell_type": "code",
   "execution_count": 23,
   "id": "65fb5248-ac73-4dfc-b056-2d5b0b4b7f59",
   "metadata": {},
   "outputs": [],
   "source": [
    "allowed_genre = ['News','Music','Entertainment','Regional','Kids','Movie','Cooking','Sports','Infotainment','Religious']\n",
    "invalid_genre = renamed_column_ss['genre'][~renamed_column_ss['genre'].isin(allowed_genre)]\n"
   ]
  },
  {
   "cell_type": "code",
   "execution_count": 24,
   "id": "325adc53-1e57-4cbf-89b0-c9370aec1120",
   "metadata": {},
   "outputs": [
    {
     "name": "stdout",
     "output_type": "stream",
     "text": [
      "OK\n"
     ]
    }
   ],
   "source": [
    "if not invalid_genre.empty:\n",
    "    sys.exit(f\"Invalid values found in 'genre' column: {','.join(invalid_genre.unique())}\")\n",
    "else:\n",
    "    print(\"OK\")"
   ]
  },
  {
   "cell_type": "markdown",
   "id": "356f9f3c",
   "metadata": {},
   "source": [
    "## CPRP_RODP Column"
   ]
  },
  {
   "cell_type": "code",
   "execution_count": 25,
   "id": "36ae7698",
   "metadata": {},
   "outputs": [],
   "source": [
    "renamed_column_ss[\"cprp_rodp\"] = renamed_column_ss[\"cprp_rodp\"].str.strip()"
   ]
  },
  {
   "cell_type": "code",
   "execution_count": 26,
   "id": "017a0ca2",
   "metadata": {},
   "outputs": [
    {
     "data": {
      "text/plain": [
       "array(['COM', 'RODP', 'CPRP'], dtype=object)"
      ]
     },
     "execution_count": 26,
     "metadata": {},
     "output_type": "execute_result"
    }
   ],
   "source": [
    "renamed_column_ss[\"cprp_rodp\"].unique()"
   ]
  },
  {
   "cell_type": "code",
   "execution_count": 27,
   "id": "f51348b6",
   "metadata": {},
   "outputs": [],
   "source": [
    "renamed_column_ss[\"cprp_rodp\"] = np.where(renamed_column_ss[\"company\"] != \"UNILEVER PAKISTAN LTD\", \"COMP\", renamed_column_ss[\"cprp_rodp\"])"
   ]
  },
  {
   "cell_type": "code",
   "execution_count": 28,
   "id": "bf669e46",
   "metadata": {},
   "outputs": [
    {
     "data": {
      "text/plain": [
       "array(['COMP', 'RODP', 'CPRP'], dtype=object)"
      ]
     },
     "execution_count": 28,
     "metadata": {},
     "output_type": "execute_result"
    }
   ],
   "source": [
    "renamed_column_ss[\"cprp_rodp\"].unique()"
   ]
  },
  {
   "cell_type": "markdown",
   "id": "4bd217f3-9399-419c-aabb-b31884f40bc2",
   "metadata": {},
   "source": [
    "## COMPETITION DATA TAG CHECK"
   ]
  },
  {
   "cell_type": "code",
   "execution_count": 29,
   "id": "5bca7bd6-52c4-49e3-825b-69ab989da123",
   "metadata": {},
   "outputs": [],
   "source": [
    "comp_tag = renamed_column_ss[\"cprp_rodp\"][renamed_column_ss[\"company\"] != \"UNILEVER PAKISTAN LTD\"] "
   ]
  },
  {
   "cell_type": "code",
   "execution_count": 30,
   "id": "385819de-ba19-4209-a4a0-ee87bbc9a18a",
   "metadata": {},
   "outputs": [
    {
     "data": {
      "text/plain": [
       "array(['COMP'], dtype=object)"
      ]
     },
     "execution_count": 30,
     "metadata": {},
     "output_type": "execute_result"
    }
   ],
   "source": [
    "comp_tag.unique()"
   ]
  },
  {
   "cell_type": "code",
   "execution_count": 31,
   "id": "7c319536-c45e-44fa-8b2c-b4375a5b231b",
   "metadata": {},
   "outputs": [
    {
     "name": "stdout",
     "output_type": "stream",
     "text": [
      "OK\n"
     ]
    }
   ],
   "source": [
    "if len(comp_tag.unique()) > 1:\n",
    "    sys.exit(\"competition tag has more than 1 unique value\")\n",
    "else:\n",
    "    print(\"OK\")"
   ]
  },
  {
   "cell_type": "code",
   "execution_count": 32,
   "id": "362b7eb7-c60e-4881-9cd4-d158c444c722",
   "metadata": {},
   "outputs": [],
   "source": [
    "comp_ro = renamed_column_ss[\"ro_no\"][renamed_column_ss[\"company\"] != \"UNILEVER PAKISTAN LTD\"]"
   ]
  },
  {
   "cell_type": "code",
   "execution_count": 33,
   "id": "6afd3d44-67c0-40a7-b5c3-a2ecd9f48f58",
   "metadata": {},
   "outputs": [
    {
     "data": {
      "text/plain": [
       "array([0], dtype=object)"
      ]
     },
     "execution_count": 33,
     "metadata": {},
     "output_type": "execute_result"
    }
   ],
   "source": [
    "comp_ro.unique()"
   ]
  },
  {
   "cell_type": "code",
   "execution_count": 34,
   "id": "0586acf3-691e-4976-a9db-a59a182d4c0b",
   "metadata": {},
   "outputs": [
    {
     "name": "stdout",
     "output_type": "stream",
     "text": [
      "OK\n"
     ]
    }
   ],
   "source": [
    "if comp_ro.unique() != 0:\n",
    "    sys.exit(\"competition ro column has non-zero value\")\n",
    "else:\n",
    "    print(\"OK\")"
   ]
  },
  {
   "cell_type": "markdown",
   "id": "f3b51bbc",
   "metadata": {},
   "source": [
    "## CLUSTER GRPS SUMCHECK"
   ]
  },
  {
   "cell_type": "code",
   "execution_count": 35,
   "id": "42560d1f",
   "metadata": {},
   "outputs": [],
   "source": [
    "comp_cluster = renamed_column_ss[\"cluster_grps\"][renamed_column_ss[\"company\"] != \"UNILEVER PAKISTAN LTD\"]"
   ]
  },
  {
   "cell_type": "code",
   "execution_count": 36,
   "id": "3e1a8c3b",
   "metadata": {},
   "outputs": [
    {
     "name": "stdout",
     "output_type": "stream",
     "text": [
      "OK\n"
     ]
    }
   ],
   "source": [
    "if sum(comp_cluster) > 0:\n",
    "    sys.exit(\"competition cluster sum is greater than 0\")\n",
    "else:\n",
    "    print(\"OK\")"
   ]
  },
  {
   "cell_type": "markdown",
   "id": "68345a8f-e059-4658-8c3c-d6d26f88ccbe",
   "metadata": {},
   "source": [
    "## Branding Checks"
   ]
  },
  {
   "cell_type": "code",
   "execution_count": 37,
   "id": "645de45e-f910-447b-b7fa-348077e0d01f",
   "metadata": {},
   "outputs": [],
   "source": [
    "renamed_column_ss[\"place\"] =  renamed_column_ss[\"place\"].str.strip()"
   ]
  },
  {
   "cell_type": "code",
   "execution_count": 38,
   "id": "90ff72e9-7070-41ee-86ce-8d0709bfaca4",
   "metadata": {},
   "outputs": [
    {
     "data": {
      "text/plain": [
       "array(['Spot/TVC', 'Closing', 'Promo', 'Clock Spot', 'Opening',\n",
       "       'Short SPOT', 'Branding'], dtype=object)"
      ]
     },
     "execution_count": 38,
     "metadata": {},
     "output_type": "execute_result"
    }
   ],
   "source": [
    "renamed_column_ss[\"place\"].unique()"
   ]
  },
  {
   "cell_type": "code",
   "execution_count": 39,
   "id": "975cadac-eb9a-4795-981b-ac579141971b",
   "metadata": {},
   "outputs": [],
   "source": [
    "branding_data = renamed_column_ss[renamed_column_ss[\"place\"].isin(['Branding'])]"
   ]
  },
  {
   "cell_type": "code",
   "execution_count": 40,
   "id": "c149f22f-65c0-45c7-9b2f-94845df31e5f",
   "metadata": {},
   "outputs": [
    {
     "data": {
      "text/plain": [
       "(2205, 23)"
      ]
     },
     "execution_count": 40,
     "metadata": {},
     "output_type": "execute_result"
    }
   ],
   "source": [
    "branding_data.shape"
   ]
  },
  {
   "cell_type": "code",
   "execution_count": 41,
   "id": "4678c1b4-6adf-4c16-9a97-61f405dd6ed2",
   "metadata": {},
   "outputs": [],
   "source": [
    "branding_slot = branding_data[\"slot_remark\"] \n",
    "branding_position = branding_data[\"position\"]\n",
    "branding_cat_noncat = branding_data[\"cat_noncat\"]"
   ]
  },
  {
   "cell_type": "code",
   "execution_count": 42,
   "id": "2855607b-641d-482d-9911-988c9d5622d3",
   "metadata": {},
   "outputs": [
    {
     "name": "stdout",
     "output_type": "stream",
     "text": [
      "0.0\n",
      "0.0\n"
     ]
    }
   ],
   "source": [
    "branding_gm_cost = sum(branding_data[\"gm_cost\"])\n",
    "branding_grps = branding_data[\"max_uni\"].sum() + branding_data[\"pb_grps\"].sum() + branding_data[\"cluster_grps\"].sum()\n",
    "print(branding_grps)\n",
    "print(branding_gm_cost)"
   ]
  },
  {
   "cell_type": "code",
   "execution_count": 43,
   "id": "543e41d5-8bd0-4be5-b42e-3a934efb35f8",
   "metadata": {},
   "outputs": [
    {
     "name": "stdout",
     "output_type": "stream",
     "text": [
      "[\"'0/0\"]\n",
      "['Middle']\n",
      "['CAT']\n"
     ]
    }
   ],
   "source": [
    "print (branding_slot.unique())\n",
    "print(branding_position.unique())\n",
    "print(branding_cat_noncat.unique())"
   ]
  },
  {
   "cell_type": "code",
   "execution_count": 44,
   "id": "33a10383-0b64-41c6-a9d2-eae60f789754",
   "metadata": {},
   "outputs": [
    {
     "name": "stdout",
     "output_type": "stream",
     "text": [
      "OK\n"
     ]
    }
   ],
   "source": [
    "if branding_slot.unique() != \"'0/0\":\n",
    "    sys.exit(\"branding slot_remark has other values\")\n",
    "elif branding_grps > 0:\n",
    "    sys.exit(\"branding grps is greater than 0\")\n",
    "elif branding_position.unique() != \"Middle\":\n",
    "    sys.exit(\"branding position is not Middle\")\n",
    "elif branding_cat_noncat.unique() != \"CAT\":\n",
    "    sys.exit(\"branding cat_noncat tagging is not CAT\")\n",
    "elif branding_gm_cost > 0:\n",
    "    sys.exit(\"branding gm_cost is greater than 0\")\n",
    "else:\n",
    "    print(\"OK\")"
   ]
  },
  {
   "cell_type": "markdown",
   "id": "0a3b9750-f36b-4baa-beba-24325813d7a7",
   "metadata": {},
   "source": [
    "## Position Column Check"
   ]
  },
  {
   "cell_type": "code",
   "execution_count": 45,
   "id": "31aed2e3-b888-48a5-ba05-3b8841ea7362",
   "metadata": {},
   "outputs": [],
   "source": [
    "renamed_column_ss[\"position\"] =  renamed_column_ss[\"position\"].str.strip()"
   ]
  },
  {
   "cell_type": "code",
   "execution_count": 46,
   "id": "eef66b24-fa35-4ada-a0a5-efe3bddf00a3",
   "metadata": {},
   "outputs": [
    {
     "data": {
      "text/plain": [
       "array(['1st', '2nd', 'Last', 'Middle', 'Island'], dtype=object)"
      ]
     },
     "execution_count": 46,
     "metadata": {},
     "output_type": "execute_result"
    }
   ],
   "source": [
    "renamed_column_ss[\"position\"].unique()"
   ]
  },
  {
   "cell_type": "code",
   "execution_count": 47,
   "id": "a20807f1-1068-465b-9890-7e64bc1057ed",
   "metadata": {},
   "outputs": [],
   "source": [
    "allowed_positions = ['1st','2nd','Last','Island','Middle']\n",
    "invalid_positions = renamed_column_ss['position'][~renamed_column_ss['position'].isin(allowed_positions)]"
   ]
  },
  {
   "cell_type": "code",
   "execution_count": 48,
   "id": "aa99bd31-bab6-4a90-938b-b31bbdf0134b",
   "metadata": {},
   "outputs": [
    {
     "name": "stdout",
     "output_type": "stream",
     "text": [
      "OK\n"
     ]
    }
   ],
   "source": [
    "if not invalid_positions.empty:\n",
    "    sys.exit(f\"Invalid values found in 'positions' column: {','.join(invalid_positions.unique())}\")\n",
    "elif len(renamed_column_ss[\"position\"].unique()) > 5:\n",
    "    sys.exit(\"positions columns has more than 5 values\")\n",
    "else:\n",
    "    print(\"OK\")"
   ]
  },
  {
   "cell_type": "markdown",
   "id": "e0bf3d6a-1e84-4440-9ac3-de80d386e798",
   "metadata": {},
   "source": [
    "## Rounding Decimals"
   ]
  },
  {
   "cell_type": "code",
   "execution_count": 49,
   "id": "b6f9349d-ad11-400a-bbc6-a9d2a174d27e",
   "metadata": {},
   "outputs": [],
   "source": [
    "renamed_column_ss[\"max_uni\"] = renamed_column_ss[\"max_uni\"].round(3)\n",
    "renamed_column_ss[\"pb_grps\"] = renamed_column_ss[\"pb_grps\"].round(3)\n",
    "renamed_column_ss[\"cluster_grps\"] = renamed_column_ss[\"cluster_grps\"].round(3)\n",
    "renamed_column_ss[\"cost_wo_gst\"] = renamed_column_ss[\"cost_wo_gst\"].round(3)\n",
    "renamed_column_ss[\"gm_cost\"] = renamed_column_ss[\"gm_cost\"].round(3)\n",
    "renamed_column_ss[\"gst\"] = renamed_column_ss[\"gst\"].round(2)\n"
   ]
  },
  {
   "cell_type": "markdown",
   "id": "0bf0d183-0b5b-46bf-93a0-8891b9cfb497",
   "metadata": {},
   "source": [
    "## Replacing Values in RO Number Column"
   ]
  },
  {
   "cell_type": "code",
   "execution_count": 50,
   "id": "7a6e3fb0-0512-4645-84af-4424837297e0",
   "metadata": {},
   "outputs": [],
   "source": [
    "renamed_column_ss[\"ro_no\"] = renamed_column_ss[\"ro_no\"].replace([0], [\"-\"])\n"
   ]
  },
  {
   "cell_type": "code",
   "execution_count": 51,
   "id": "d41342fa-35f1-455f-bb4b-9e1d58bcd128",
   "metadata": {},
   "outputs": [
    {
     "data": {
      "text/plain": [
       "array(['-', 'ROE-812620', 'ROE-812547', 'ROE-813032', 'ROE-812585',\n",
       "       'ROE-812548', 'ROE-812575', 'ROE-812667', 'ROE-812621',\n",
       "       'ROE-812642', 'ROE-812613', 'ROE-812649', 'ROE-812536',\n",
       "       'ROE-812674', 'ROE-812675', 'ROE-812997', 'ROE-812965',\n",
       "       'ROE-813005', 'ROE-813012', 'ROE-813197', 'ROE-813216',\n",
       "       'ROE-813199', 'ROE-813176', 'ROE-813450', 'ROE-813033',\n",
       "       'ROE-812586', 'ROE-812549', 'ROE-812622', 'ROE-812612',\n",
       "       'ROE-812641', 'ROE-812524', 'ROE-812535', 'ROE-812676',\n",
       "       'ROE-812964', 'ROE-813215', 'ROE-813446', 'ROE-813034',\n",
       "       'ROE-812523', 'ROE-812576', 'ROE-812611', 'ROE-812571',\n",
       "       'ROE-812534', 'ROE-812528', 'ROE-812679', 'ROE-812680',\n",
       "       'ROE-812650', 'ROE-812623', 'ROE-812666', 'ROE-812971',\n",
       "       'ROE-812963', 'ROE-812996', 'ROE-813026', 'ROE-813025',\n",
       "       'ROE-813004', 'ROE-813010', 'ROE-812985', 'ROE-812538',\n",
       "       'ROE-812583', 'ROE-813204', 'ROE-813222', 'ROE-812975',\n",
       "       'ROE-813214', 'ROE-812977', 'ROE-812976', 'ROE-813207',\n",
       "       'ROE-813186', 'ROE-812982', 'ROE-813185', 'ROE-813066',\n",
       "       'ROE-813177', 'ROE-812539', 'ROE-812983', 'ROE-812584',\n",
       "       'ROE-813035', 'ROE-812986', 'ROE-813441', 'ROE-813452',\n",
       "       'ROE-813458', 'ROE-812651', 'ROE-812588', 'ROE-812664',\n",
       "       'ROE-812610', 'ROE-812553', 'ROE-812640', 'ROE-812962',\n",
       "       'ROE-812995', 'ROE-812624', 'ROE-812681', 'ROE-812682',\n",
       "       'ROE-813036', 'ROE-813003', 'ROE-813213', 'ROE-812522',\n",
       "       'ROE-812527', 'ROE-812609', 'ROE-812683', 'ROE-812684',\n",
       "       'ROE-812554', 'ROE-812577', 'ROE-812608', 'ROE-812638',\n",
       "       'ROE-812625', 'ROE-812520', 'ROE-812662', 'ROE-812685',\n",
       "       'ROE-812686', 'ROE-812961', 'ROE-812970', 'ROE-812994',\n",
       "       'ROE-813037', 'ROE-813006', 'ROE-813198', 'ROE-813013',\n",
       "       'ROE-813212', 'ROE-813221', 'ROE-813200', 'ROE-813457',\n",
       "       'ROE-813449', 'ROE-812589', 'ROE-812605', 'ROE-812636',\n",
       "       'ROE-812521', 'ROE-812626', 'ROE-812687', 'ROE-812688',\n",
       "       'ROE-813038', 'ROE-812590', 'ROE-812515', 'ROE-812572',\n",
       "       'ROE-812578', 'ROE-812665', 'ROE-812555', 'ROE-812639',\n",
       "       'ROE-812645', 'ROE-812689', 'ROE-812969', 'ROE-813220',\n",
       "       'ROE-813455', 'ROE-812663', 'ROE-812556', 'ROE-812690',\n",
       "       'ROE-812627', 'ROE-813444', 'ROE-812559', 'ROE-812592',\n",
       "       'ROE-812603', 'ROE-812652', 'ROE-812628', 'ROE-812531',\n",
       "       'ROE-812519', 'ROE-812697', 'ROE-812698', 'ROE-812637',\n",
       "       'ROE-813043', 'ROE-813049', 'ROE-813027', 'ROE-812992',\n",
       "       'ROE-813203', 'ROE-813206', 'ROE-813190', 'ROE-813189',\n",
       "       'ROE-812593', 'ROE-812573', 'ROE-812654', 'ROE-812629',\n",
       "       'ROE-812579', 'ROE-812607', 'ROE-812661', 'ROE-812561',\n",
       "       'ROE-812635', 'ROE-812701', 'ROE-812702', 'ROE-812960',\n",
       "       'ROE-812968', 'ROE-813002', 'ROE-813044', 'ROE-813011',\n",
       "       'ROE-813211', 'ROE-813219', 'ROE-812991', 'ROE-813448',\n",
       "       'ROE-813443', 'ROE-812562', 'ROE-812602', 'ROE-812606',\n",
       "       'ROE-812630', 'ROE-812529', 'ROE-812634', 'ROE-812525',\n",
       "       'ROE-812705', 'ROE-812706', 'ROE-812959', 'ROE-813001',\n",
       "       'ROE-812993', 'ROE-813040', 'ROE-813209', 'ROE-812518',\n",
       "       'ROE-813451', 'ROE-812516', 'ROE-812563', 'ROE-812594',\n",
       "       'ROE-812967', 'ROE-813218', 'ROE-813454', 'ROE-817851',\n",
       "       'ROE-817846', 'ROE-817847', 'ROE-817854', 'ROE-818017',\n",
       "       'ROE-817852', 'ROE-817850', 'ROE-817848', 'ROE-812564',\n",
       "       'ROE-812574', 'ROE-812595', 'ROE-812655', 'ROE-812604',\n",
       "       'ROE-812631', 'ROE-812530', 'ROE-812633', 'ROE-812517',\n",
       "       'ROE-812707', 'ROE-812958', 'ROE-812998', 'ROE-812990',\n",
       "       'ROE-812989', 'ROE-813041', 'ROE-813028', 'ROE-813187',\n",
       "       'ROE-813188', 'ROE-813202', 'ROE-813205', 'ROE-813208',\n",
       "       'ROE-812984', 'ROE-813166', 'ROE-813163', 'ROE-813325',\n",
       "       'ROE-813378', 'ROE-812567', 'ROE-812714', 'ROE-812715',\n",
       "       'ROE-812568', 'ROE-812632', 'ROE-812716', 'ROE-812957',\n",
       "       'ROE-812966', 'ROE-813042', 'ROE-813217', 'ROE-813210',\n",
       "       'ROE-813456', 'ROE-813447', 'ROE-813907', 'ROE-813527',\n",
       "       'ROE-814036', 'ROE-814044', 'ROE-813908', 'ROE-814374',\n",
       "       'ROE-814079', 'ROE-814164', 'ROE-814387', 'ROE-814612',\n",
       "       'ROE-814619', 'ROE-814623', 'ROE-814037', 'ROE-814045',\n",
       "       'ROE-814080', 'ROE-814375', 'ROE-814154', 'ROE-814146',\n",
       "       'ROE-814372', 'ROE-813707', 'ROE-814046', 'ROE-813437',\n",
       "       'ROE-814081', 'ROE-814147', 'ROE-814153', 'ROE-814388',\n",
       "       'ROE-814376', 'ROE-814168', 'ROE-814488', 'ROE-814624',\n",
       "       'ROE-814500', 'ROE-813562', 'ROE-813560', 'ROE-813442',\n",
       "       'ROE-813445', 'ROE-814038', 'ROE-814082', 'ROE-814169',\n",
       "       'ROE-813909', 'ROE-814142', 'ROE-814155', 'ROE-814389',\n",
       "       'ROE-814377', 'ROE-814501', 'ROE-814497', 'ROE-814625',\n",
       "       'ROE-814618', 'ROE-814023', 'ROE-814039', 'ROE-814378',\n",
       "       'ROE-814390', 'ROE-814610', 'ROE-814040', 'ROE-814047',\n",
       "       'ROE-814083', 'ROE-813910', 'ROE-814152', 'ROE-814391',\n",
       "       'ROE-814379', 'ROE-812526', 'ROE-814609', 'ROE-814024',\n",
       "       'ROE-814048', 'ROE-814041', 'ROE-814084', 'ROE-814380',\n",
       "       'ROE-814392', 'ROE-814617', 'ROE-813528', 'ROE-813328',\n",
       "       'ROE-814381', 'ROE-814393', 'ROE-813911', 'ROE-813440',\n",
       "       'ROE-814504', 'ROE-814616', 'ROE-813912', 'ROE-814503',\n",
       "       'ROE-814165', 'ROE-814145', 'ROE-814085', 'ROE-814151',\n",
       "       'ROE-814382', 'ROE-814394', 'ROE-814490', 'ROE-814626',\n",
       "       'ROE-814495', 'ROE-814615', 'ROE-813559', 'ROE-813561',\n",
       "       'ROE-814049', 'ROE-814042', 'ROE-814086', 'ROE-814166',\n",
       "       'ROE-814143', 'ROE-814149', 'ROE-814395', 'ROE-814496',\n",
       "       'ROE-814383', 'ROE-814608', 'ROE-814502', 'ROE-814614',\n",
       "       'ROE-814627', 'ROE-814043', 'ROE-814050', 'ROE-813913',\n",
       "       'ROE-814087', 'ROE-814150', 'ROE-814396', 'ROE-814384',\n",
       "       'ROE-814607', 'ROE-813432', 'ROE-813914', 'ROE-813453',\n",
       "       'ROE-813708', 'ROE-814167', 'ROE-814088', 'ROE-814144',\n",
       "       'ROE-814148', 'ROE-814397', 'ROE-814385', 'ROE-814489',\n",
       "       'ROE-814613', 'ROE-814606', 'ROE-814629', 'ROE-814398',\n",
       "       'ROE-814386', 'ROE-814089', 'ROE-813915', 'ROE-814399',\n",
       "       'ROE-814630', 'ROE-814373', 'ROE-814871', 'ROE-815273',\n",
       "       'ROE-815211', 'ROE-814826', 'ROE-815067', 'ROE-815207',\n",
       "       'ROE-815212', 'ROE-815236', 'ROE-815276', 'ROE-815387',\n",
       "       'ROE-815177', 'ROE-815571', 'ROE-816211', 'ROE-814815',\n",
       "       'ROE-814817', 'ROE-814953', 'ROE-815066', 'ROE-815204',\n",
       "       'ROE-815199', 'ROE-815224', 'ROE-815128', 'ROE-815272',\n",
       "       'ROE-815119', 'ROE-815213', 'ROE-815082', 'ROE-815237',\n",
       "       'ROE-815543', 'ROE-815383', 'ROE-815683', 'ROE-816135',\n",
       "       'ROE-816133', 'ROE-816109', 'ROE-816145', 'ROE-816127',\n",
       "       'ROE-814847', 'ROE-814827', 'ROE-814840', 'ROE-814872',\n",
       "       'ROE-814948', 'ROE-814955', 'ROE-814883', 'ROE-815065',\n",
       "       'ROE-815074', 'ROE-815127', 'ROE-815238', 'ROE-815277',\n",
       "       'ROE-815214', 'ROE-815223', 'ROE-815234', 'ROE-815173',\n",
       "       'ROE-815077', 'ROE-815284', 'ROE-815379', 'ROE-815477',\n",
       "       'ROE-814818', 'ROE-815537', 'ROE-815478', 'ROE-815679',\n",
       "       'ROE-815542', 'ROE-815479', 'ROE-816090', 'ROE-816079',\n",
       "       'ROE-816134', 'ROE-816107', 'ROE-816143', 'ROE-816132',\n",
       "       'ROE-814493', 'ROE-814611', 'ROE-814828', 'ROE-814951',\n",
       "       'ROE-814873', 'ROE-815064', 'ROE-815078', 'ROE-815118',\n",
       "       'ROE-815239', 'ROE-815229', 'ROE-815278', 'ROE-815381',\n",
       "       'ROE-815178', 'ROE-815680', 'ROE-815382', 'ROE-815684',\n",
       "       'ROE-816116', 'ROE-816114', 'ROE-816131', 'ROE-816085',\n",
       "       'ROE-816093', 'ROE-816136', 'ROE-816080', 'ROE-816126',\n",
       "       'ROE-816159', 'ROE-816144', 'ROE-816210', 'ROE-813178',\n",
       "       'ROE-814829', 'ROE-814848', 'ROE-814952', 'ROE-814947',\n",
       "       'ROE-814886', 'ROE-814505', 'ROE-815063', 'ROE-815073',\n",
       "       'ROE-815117', 'ROE-815279', 'ROE-815230', 'ROE-815274',\n",
       "       'ROE-814874', 'ROE-815386', 'ROE-812533', 'ROE-816092',\n",
       "       'ROE-816120', 'ROE-816142', 'ROE-816158', 'ROE-816038',\n",
       "       'ROE-816160', 'ROE-814819', 'ROE-814885', 'ROE-815240',\n",
       "       'ROE-815126', 'ROE-815231', 'ROE-815811', 'ROE-815812',\n",
       "       'ROE-816139', 'ROE-816095', 'ROE-816161', 'ROE-816213',\n",
       "       'ROE-813379', 'ROE-814849', 'ROE-814820', 'ROE-814841',\n",
       "       'ROE-812542', 'ROE-813377', 'ROE-814875', 'ROE-814944',\n",
       "       'ROE-815070', 'ROE-815225', 'ROE-815116', 'ROE-815241',\n",
       "       'ROE-815393', 'ROE-815482', 'ROE-816146', 'ROE-816084',\n",
       "       'ROE-816215', 'ROE-814821', 'ROE-815244', 'ROE-815083',\n",
       "       'ROE-814831', 'ROE-815217', 'ROE-814877', 'ROE-814884',\n",
       "       'ROE-815380', 'ROE-815174', 'ROE-815079', 'ROE-815538',\n",
       "       'ROE-815232', 'ROE-815281', 'ROE-815480', 'ROE-815681',\n",
       "       'ROE-816115', 'ROE-816088', 'ROE-816086', 'ROE-816081',\n",
       "       'ROE-816130', 'ROE-816125', 'ROE-816214', 'ROE-814492',\n",
       "       'ROE-813179', 'ROE-814816', 'ROE-814842', 'ROE-814850',\n",
       "       'ROE-814832', 'ROE-814950', 'ROE-814946', 'ROE-815080',\n",
       "       'ROE-815061', 'ROE-815071', 'ROE-815215', 'ROE-815115',\n",
       "       'ROE-815242', 'ROE-815176', 'ROE-815539', 'ROE-815391',\n",
       "       'ROE-814823', 'ROE-815385', 'ROE-815481', 'ROE-816129',\n",
       "       'ROE-816137', 'ROE-816094', 'ROE-816122', 'ROE-816119',\n",
       "       'ROE-816111', 'ROE-814628', 'ROE-814833', 'ROE-814491',\n",
       "       'ROE-814954', 'ROE-815060', 'ROE-815196', 'ROE-815201',\n",
       "       'ROE-815209', 'ROE-815282', 'ROE-815175', 'ROE-816123',\n",
       "       'ROE-816091', 'ROE-816112', 'ROE-816128', 'ROE-814943',\n",
       "       'ROE-814878', 'ROE-813381', 'ROE-815072', 'ROE-815243',\n",
       "       'ROE-815389', 'ROE-816118', 'ROE-814494', 'ROE-814499',\n",
       "       'ROE-814834', 'ROE-814843', 'ROE-813175', 'ROE-814825',\n",
       "       'ROE-814879', 'ROE-814882', 'ROE-815069', 'ROE-815062',\n",
       "       'ROE-815081', 'ROE-815114', 'ROE-815200', 'ROE-815125',\n",
       "       'ROE-815172', 'ROE-815227', 'ROE-815205', 'ROE-814824',\n",
       "       'ROE-815685', 'ROE-815682', 'ROE-815395', 'ROE-816089',\n",
       "       'ROE-816082', 'ROE-816124', 'ROE-816108', 'ROE-816138',\n",
       "       'ROE-816113', 'ROE-816140', 'ROE-814880', 'ROE-815814',\n",
       "       'ROE-815813', 'ROE-814835', 'ROE-814881', 'ROE-814945',\n",
       "       'ROE-815208', 'ROE-815235', 'ROE-815068', 'ROE-815233',\n",
       "       'ROE-815572', 'ROE-815390', 'ROE-816117', 'ROE-816083',\n",
       "       'ROE-817849', 'ROE-817853', 'ROE-816099', 'ROE-815529',\n",
       "       'ROE-815554', 'ROE-815471', 'ROE-815109', 'ROE-814641',\n",
       "       'ROE-815496', 'ROE-815451', 'ROE-815485', 'ROE-815566',\n",
       "       'ROE-815113', 'ROE-815450', 'ROE-815495', 'ROE-815104',\n",
       "       'ROE-814635', 'ROE-815089', 'ROE-815490', 'ROE-815466',\n",
       "       'ROE-814637', 'ROE-815489', 'ROE-815442', 'ROE-815569',\n",
       "       'ROE-815443', 'ROE-815557', 'ROE-815090', 'ROE-815525',\n",
       "       'ROE-814636', 'ROE-815467', 'ROE-815444', 'ROE-815577',\n",
       "       'ROE-815445', 'ROE-815468', 'ROE-815527', 'ROE-815446',\n",
       "       'ROE-815447', 'ROE-815469', 'ROE-815568', 'ROE-814836',\n",
       "       'ROE-815555', 'ROE-815578', 'ROE-815470', 'ROE-815528',\n",
       "       'ROE-815493', 'ROE-815448', 'ROE-815492', 'ROE-815449',\n",
       "       'ROE-815494', 'ROE-814838', 'ROE-816104', 'ROE-815112',\n",
       "       'ROE-815472', 'ROE-815530', 'ROE-816106', 'ROE-815108',\n",
       "       'ROE-815498', 'ROE-815103', 'ROE-815564', 'ROE-815552',\n",
       "       'ROE-815497', 'ROE-815576', 'ROE-815088', 'ROE-814640',\n",
       "       'ROE-815563', 'ROE-815107', 'ROE-815111', 'ROE-815102',\n",
       "       'ROE-815551', 'ROE-815087', 'ROE-814639', 'ROE-815550',\n",
       "       'ROE-815110', 'ROE-815452', 'ROE-815560', 'ROE-815473',\n",
       "       'ROE-815502', 'ROE-815101', 'ROE-815501', 'ROE-815106',\n",
       "       'ROE-815486', 'ROE-815575', 'ROE-815105', 'ROE-815507',\n",
       "       'ROE-816105', 'ROE-815085', 'ROE-815456', 'ROE-815540',\n",
       "       'ROE-815474', 'ROE-814638', 'ROE-815100', 'ROE-815508',\n",
       "       'ROE-814634', 'ROE-815574', 'ROE-815510', 'ROE-815509',\n",
       "       'ROE-815506', 'ROE-815454', 'ROE-816100', 'ROE-815505',\n",
       "       'ROE-814633', 'ROE-815120', 'ROE-815565', 'ROE-815512',\n",
       "       'ROE-815086', 'ROE-815511', 'ROE-815475', 'ROE-815548',\n",
       "       'ROE-814632', 'ROE-815458', 'ROE-815526', 'ROE-815513',\n",
       "       'ROE-814631', 'ROE-815514', 'ROE-815516', 'ROE-815547',\n",
       "       'ROE-815476', 'ROE-815562', 'ROE-815517', 'ROE-815460',\n",
       "       'ROE-815519', 'ROE-815520', 'ROE-815462', 'ROE-815084',\n",
       "       'ROE-815531', 'ROE-815573', 'ROE-815524', 'ROE-815523',\n",
       "       'ROE-815464', 'ROE-815541', 'ROE-816096', 'ROE-816101',\n",
       "       'ROE-815491', 'ROE-815678', 'ROE-815567', 'ROE-815553',\n",
       "       'ROE-815483', 'ROE-815687', 'ROE-815487', 'ROE-815686',\n",
       "       'ROE-815536', 'ROE-815688', 'ROE-815499', 'ROE-815689',\n",
       "       'ROE-815500', 'ROE-815484', 'ROE-816097', 'ROE-815504',\n",
       "       'ROE-816102', 'ROE-815503', 'ROE-816103', 'ROE-815488',\n",
       "       'ROE-815457', 'ROE-815559', 'ROE-815455', 'ROE-815459',\n",
       "       'ROE-815515', 'ROE-815690', 'ROE-815691', 'ROE-815518',\n",
       "       'ROE-815461', 'ROE-815533', 'ROE-815522', 'ROE-815521',\n",
       "       'ROE-815463', 'ROE-815465', 'ROE-815453', 'ROE-815549',\n",
       "       'ROE-813563', 'ROE-813564', 'ROE-813565', 'ROE-813566',\n",
       "       'ROE-813567', 'ROE-813568', 'ROE-813569', 'ROE-813696',\n",
       "       'ROE-813697', 'ROE-813698', 'ROE-813699', 'ROE-813700',\n",
       "       'ROE-813704', 'ROE-813705', 'ROE-812978', 'ROE-812979',\n",
       "       'ROE-812980', 'ROE-812981', 'ROE-813171', 'ROE-813173',\n",
       "       'ROE-813201', 'ROE-813329', 'ROE-813342', 'ROE-813382',\n",
       "       'ROE-813383', 'ROE-813384', 'ROE-813385', 'ROE-813434',\n",
       "       'ROE-813435', 'ROE-813436', 'ROE-813438', 'ROE-813439',\n",
       "       'ROE-814862', 'ROE-814863', 'ROE-814864', 'ROE-814865',\n",
       "       'ROE-815075', 'ROE-815076', 'ROE-815091', 'ROE-815092',\n",
       "       'ROE-815093', 'ROE-815094', 'ROE-815095', 'ROE-815096',\n",
       "       'ROE-815097', 'ROE-815098', 'ROE-815099', 'ROE-815129',\n",
       "       'ROE-815134', 'ROE-815532', 'ROE-815534', 'ROE-815535',\n",
       "       'ROE-815544', 'ROE-815545', 'ROE-815546', 'ROE-815556',\n",
       "       'ROE-815558', 'ROE-815561', 'ROE-816037', 'ROE-816098',\n",
       "       'ROE-816207', 'ROE-816208', 'ROE-816209', 'ROE-817855',\n",
       "       'ROE-817857', 'ROE-817858', 'ROE-817859', 'ROE-817860',\n",
       "       'ROE-817861', 'ROE-817862', 'ROE-817863', 'ROE-818016',\n",
       "       'ROE-818028'], dtype=object)"
      ]
     },
     "execution_count": 51,
     "metadata": {},
     "output_type": "execute_result"
    }
   ],
   "source": [
    "renamed_column_ss[\"ro_no\"].unique()"
   ]
  },
  {
   "cell_type": "markdown",
   "id": "4dc3dd8a-d08d-4686-963e-6d55ad6d9bdc",
   "metadata": {},
   "source": [
    "## Creating copy and replacing \",\" with space"
   ]
  },
  {
   "cell_type": "code",
   "execution_count": 52,
   "id": "535d2463-a39a-48be-8db7-7ffdfe90d3d1",
   "metadata": {},
   "outputs": [],
   "source": [
    "strikesheet_final = renamed_column_ss.copy()"
   ]
  },
  {
   "cell_type": "code",
   "execution_count": 53,
   "id": "4d39a8ed-6343-4059-be2c-53326d5d1b80",
   "metadata": {},
   "outputs": [
    {
     "name": "stdout",
     "output_type": "stream",
     "text": [
      "<class 'pandas.core.frame.DataFrame'>\n",
      "RangeIndex: 853053 entries, 0 to 853052\n",
      "Data columns (total 23 columns):\n",
      " #   Column            Non-Null Count   Dtype         \n",
      "---  ------            --------------   -----         \n",
      " 0   serial_number     853053 non-null  object        \n",
      " 1   ro_no             853053 non-null  object        \n",
      " 2   commercial_title  853053 non-null  object        \n",
      " 3   company           853053 non-null  object        \n",
      " 4   brand             853053 non-null  object        \n",
      " 5   date              853053 non-null  datetime64[ns]\n",
      " 6   time              853053 non-null  object        \n",
      " 7   channel           853053 non-null  object        \n",
      " 8   program           853053 non-null  object        \n",
      " 9   place             853053 non-null  object        \n",
      " 10  duration          853053 non-null  int64         \n",
      " 11  cat_noncat        853053 non-null  object        \n",
      " 12  slot_remark       853053 non-null  object        \n",
      " 13  position          853053 non-null  object        \n",
      " 14  subcategory       853053 non-null  object        \n",
      " 15  genre             853053 non-null  object        \n",
      " 16  cost_wo_gst       853053 non-null  float64       \n",
      " 17  pb_grps           853053 non-null  float64       \n",
      " 18  max_uni           853053 non-null  float64       \n",
      " 19  cluster_grps      853053 non-null  float64       \n",
      " 20  cprp_rodp         853053 non-null  object        \n",
      " 21  gst               853053 non-null  float64       \n",
      " 22  gm_cost           853053 non-null  float64       \n",
      "dtypes: datetime64[ns](1), float64(6), int64(1), object(15)\n",
      "memory usage: 149.7+ MB\n"
     ]
    }
   ],
   "source": [
    "strikesheet_final.info()"
   ]
  },
  {
   "cell_type": "code",
   "execution_count": 54,
   "id": "219c3d35-bc3a-494e-803c-d33b73c15d91",
   "metadata": {},
   "outputs": [],
   "source": [
    "strikesheet_final = strikesheet_final.replace([\",\"],[\" \"], regex = True)"
   ]
  },
  {
   "cell_type": "code",
   "execution_count": 55,
   "id": "3d96608d-983f-41d1-b82f-c3d6dbd26fa5",
   "metadata": {},
   "outputs": [],
   "source": [
    "strikesheet_final.to_csv(f'{output_path}', index=False)"
   ]
  }
 ],
 "metadata": {
  "kernelspec": {
   "display_name": "Python 3 (ipykernel)",
   "language": "python",
   "name": "python3"
  },
  "language_info": {
   "codemirror_mode": {
    "name": "ipython",
    "version": 3
   },
   "file_extension": ".py",
   "mimetype": "text/x-python",
   "name": "python",
   "nbconvert_exporter": "python",
   "pygments_lexer": "ipython3",
   "version": "3.11.7"
  }
 },
 "nbformat": 4,
 "nbformat_minor": 5
}
